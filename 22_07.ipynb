{
  "nbformat": 4,
  "nbformat_minor": 0,
  "metadata": {
    "colab": {
      "name": "Untitled3.ipynb",
      "provenance": [],
      "collapsed_sections": []
    },
    "kernelspec": {
      "name": "python3",
      "display_name": "Python 3"
    },
    "language_info": {
      "name": "python"
    },
    "widgets": {
      "application/vnd.jupyter.widget-state+json": {
        "311e5761ca674083a9cbafb8ee7bbbc2": {
          "model_module": "@jupyter-widgets/controls",
          "model_name": "BoxModel",
          "model_module_version": "1.5.0",
          "state": {
            "_dom_classes": [],
            "_model_module": "@jupyter-widgets/controls",
            "_model_module_version": "1.5.0",
            "_model_name": "BoxModel",
            "_view_count": null,
            "_view_module": "@jupyter-widgets/controls",
            "_view_module_version": "1.5.0",
            "_view_name": "BoxView",
            "box_style": "",
            "children": [
              "IPY_MODEL_36b1e352887d49a098dc3413f82f07d6",
              "IPY_MODEL_097fa4b38fd44241bcbefac5f888e058",
              "IPY_MODEL_cee236261ad84bbdabb4e6d84b626c21",
              "IPY_MODEL_267fbe4b66be4f9988f0598569070ef2",
              "IPY_MODEL_6036be440cda4473aa7beb9a39d041e7",
              "IPY_MODEL_f6202abe68154865a03851e78d195a4c"
            ],
            "layout": "IPY_MODEL_44e6f0468ba44b6b85ddc6038e30b502"
          }
        },
        "36b1e352887d49a098dc3413f82f07d6": {
          "model_module": "@jupyter-widgets/controls",
          "model_name": "LabelModel",
          "model_module_version": "1.5.0",
          "state": {
            "_dom_classes": [
              "red_label"
            ],
            "_model_module": "@jupyter-widgets/controls",
            "_model_module_version": "1.5.0",
            "_model_name": "LabelModel",
            "_view_count": null,
            "_view_module": "@jupyter-widgets/controls",
            "_view_module_version": "1.5.0",
            "_view_name": "LabelView",
            "description": "",
            "description_tooltip": null,
            "layout": "IPY_MODEL_ce7e9b12640f4bd8a3b84cc6752c3f22",
            "placeholder": "​",
            "style": "IPY_MODEL_a17b16841f39426d85bed6c771404c28",
            "value": "Se pot procesa doar bancnote de 1,5,10,100,200,500 lei"
          }
        },
        "097fa4b38fd44241bcbefac5f888e058": {
          "model_module": "@jupyter-widgets/output",
          "model_name": "OutputModel",
          "model_module_version": "1.0.0",
          "state": {
            "_dom_classes": [],
            "_model_module": "@jupyter-widgets/output",
            "_model_module_version": "1.0.0",
            "_model_name": "OutputModel",
            "_view_count": null,
            "_view_module": "@jupyter-widgets/output",
            "_view_module_version": "1.0.0",
            "_view_name": "OutputView",
            "layout": "IPY_MODEL_83afb715a7754c5d99a482ff2b7e6663",
            "msg_id": "",
            "outputs": [
              {
                "output_type": "display_data",
                "data": {
                  "text/plain": "<PIL.Image.Image image mode=RGB size=128x96 at 0x7FA0F29B8210>",
                  "image/png": "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\n"
                },
                "metadata": {}
              }
            ]
          }
        },
        "cee236261ad84bbdabb4e6d84b626c21": {
          "model_module": "@jupyter-widgets/controls",
          "model_name": "LabelModel",
          "model_module_version": "1.5.0",
          "state": {
            "_dom_classes": [
              "green_label"
            ],
            "_model_module": "@jupyter-widgets/controls",
            "_model_module_version": "1.5.0",
            "_model_name": "LabelModel",
            "_view_count": null,
            "_view_module": "@jupyter-widgets/controls",
            "_view_module_version": "1.5.0",
            "_view_name": "LabelView",
            "description": "",
            "description_tooltip": null,
            "layout": "IPY_MODEL_c94d8bcdbeb94029adc629da06df0f8e",
            "placeholder": "​",
            "style": "IPY_MODEL_f382e8682b7243adbd852ec3d851e497",
            "value": "Prediction: 5 lei; Probability: 0.9344"
          }
        },
        "267fbe4b66be4f9988f0598569070ef2": {
          "model_module": "jupyter-webrtc",
          "model_name": "ImageRecorderModel",
          "model_module_version": "~0.6.0",
          "state": {
            "_data_src": "blob:https://1m27u0tbcun-496ff2e9c6d22116-0-colab.googleusercontent.com/f92b5709-9439-4c96-84bf-07ae0bf1c3f3",
            "_dom_classes": [],
            "_height": "480px",
            "_model_module": "jupyter-webrtc",
            "_model_module_version": "~0.6.0",
            "_model_name": "ImageRecorderModel",
            "_view_count": null,
            "_view_module": "jupyter-webrtc",
            "_view_module_version": "~0.6.0",
            "_view_name": "ImageRecorderView",
            "_width": "640px",
            "autosave": false,
            "filename": "record",
            "format": "png",
            "image": "IPY_MODEL_72b91c9d5faa4bbca5eb4327160e8cd1",
            "layout": "IPY_MODEL_5240ba1b63224c16992d6e8c996451cf",
            "recording": false,
            "stream": "IPY_MODEL_f6202abe68154865a03851e78d195a4c"
          }
        },
        "6036be440cda4473aa7beb9a39d041e7": {
          "model_module": "@jupyter-widgets/controls",
          "model_name": "ButtonModel",
          "model_module_version": "1.5.0",
          "state": {
            "_dom_classes": [],
            "_model_module": "@jupyter-widgets/controls",
            "_model_module_version": "1.5.0",
            "_model_name": "ButtonModel",
            "_view_count": null,
            "_view_module": "@jupyter-widgets/controls",
            "_view_module_version": "1.5.0",
            "_view_name": "ButtonView",
            "button_style": "",
            "description": " TAP TO START PROCESSING",
            "disabled": false,
            "icon": "",
            "layout": "IPY_MODEL_ec64af85544045c19e533cd88a9b4eb7",
            "style": "IPY_MODEL_f6fc740d836e4d1fb2603074df4c6949",
            "tooltip": ""
          }
        },
        "f6202abe68154865a03851e78d195a4c": {
          "model_module": "jupyter-webrtc",
          "model_name": "CameraStreamModel",
          "model_module_version": "~0.6.0",
          "state": {
            "_dom_classes": [],
            "_model_module": "jupyter-webrtc",
            "_model_module_version": "~0.6.0",
            "_model_name": "CameraStreamModel",
            "_view_count": null,
            "_view_module": "jupyter-webrtc",
            "_view_module_version": "~0.6.0",
            "_view_name": "MediaStreamView",
            "constraints": {
              "audio": false,
              "video": {
                "facingMode": "user"
              }
            },
            "layout": "IPY_MODEL_504498ca06014eec891f0a413e76a8bb"
          }
        },
        "44e6f0468ba44b6b85ddc6038e30b502": {
          "model_module": "@jupyter-widgets/base",
          "model_name": "LayoutModel",
          "model_module_version": "1.2.0",
          "state": {
            "_model_module": "@jupyter-widgets/base",
            "_model_module_version": "1.2.0",
            "_model_name": "LayoutModel",
            "_view_count": null,
            "_view_module": "@jupyter-widgets/base",
            "_view_module_version": "1.2.0",
            "_view_name": "LayoutView",
            "align_content": null,
            "align_items": "center",
            "align_self": null,
            "border": "3px solid black",
            "bottom": null,
            "display": "flex",
            "flex": null,
            "flex_flow": "column",
            "grid_area": null,
            "grid_auto_columns": null,
            "grid_auto_flow": null,
            "grid_auto_rows": null,
            "grid_column": null,
            "grid_gap": null,
            "grid_row": null,
            "grid_template_areas": null,
            "grid_template_columns": null,
            "grid_template_rows": null,
            "height": null,
            "justify_content": null,
            "justify_items": null,
            "left": null,
            "margin": null,
            "max_height": null,
            "max_width": null,
            "min_height": null,
            "min_width": null,
            "object_fit": null,
            "object_position": null,
            "order": null,
            "overflow": null,
            "overflow_x": null,
            "overflow_y": null,
            "padding": null,
            "right": null,
            "top": null,
            "visibility": null,
            "width": "70%"
          }
        },
        "ce7e9b12640f4bd8a3b84cc6752c3f22": {
          "model_module": "@jupyter-widgets/base",
          "model_name": "LayoutModel",
          "model_module_version": "1.2.0",
          "state": {
            "_model_module": "@jupyter-widgets/base",
            "_model_module_version": "1.2.0",
            "_model_name": "LayoutModel",
            "_view_count": null,
            "_view_module": "@jupyter-widgets/base",
            "_view_module_version": "1.2.0",
            "_view_name": "LayoutView",
            "align_content": null,
            "align_items": null,
            "align_self": null,
            "border": null,
            "bottom": null,
            "display": null,
            "flex": null,
            "flex_flow": null,
            "grid_area": null,
            "grid_auto_columns": null,
            "grid_auto_flow": null,
            "grid_auto_rows": null,
            "grid_column": null,
            "grid_gap": null,
            "grid_row": null,
            "grid_template_areas": null,
            "grid_template_columns": null,
            "grid_template_rows": null,
            "height": null,
            "justify_content": null,
            "justify_items": null,
            "left": null,
            "margin": null,
            "max_height": null,
            "max_width": null,
            "min_height": null,
            "min_width": null,
            "object_fit": null,
            "object_position": null,
            "order": null,
            "overflow": null,
            "overflow_x": null,
            "overflow_y": null,
            "padding": null,
            "right": null,
            "top": null,
            "visibility": null,
            "width": null
          }
        },
        "a17b16841f39426d85bed6c771404c28": {
          "model_module": "@jupyter-widgets/controls",
          "model_name": "DescriptionStyleModel",
          "model_module_version": "1.5.0",
          "state": {
            "_model_module": "@jupyter-widgets/controls",
            "_model_module_version": "1.5.0",
            "_model_name": "DescriptionStyleModel",
            "_view_count": null,
            "_view_module": "@jupyter-widgets/base",
            "_view_module_version": "1.2.0",
            "_view_name": "StyleView",
            "description_width": ""
          }
        },
        "83afb715a7754c5d99a482ff2b7e6663": {
          "model_module": "@jupyter-widgets/base",
          "model_name": "LayoutModel",
          "model_module_version": "1.2.0",
          "state": {
            "_model_module": "@jupyter-widgets/base",
            "_model_module_version": "1.2.0",
            "_model_name": "LayoutModel",
            "_view_count": null,
            "_view_module": "@jupyter-widgets/base",
            "_view_module_version": "1.2.0",
            "_view_name": "LayoutView",
            "align_content": null,
            "align_items": null,
            "align_self": null,
            "border": null,
            "bottom": null,
            "display": null,
            "flex": null,
            "flex_flow": null,
            "grid_area": null,
            "grid_auto_columns": null,
            "grid_auto_flow": null,
            "grid_auto_rows": null,
            "grid_column": null,
            "grid_gap": null,
            "grid_row": null,
            "grid_template_areas": null,
            "grid_template_columns": null,
            "grid_template_rows": null,
            "height": null,
            "justify_content": null,
            "justify_items": null,
            "left": null,
            "margin": null,
            "max_height": null,
            "max_width": null,
            "min_height": null,
            "min_width": null,
            "object_fit": null,
            "object_position": null,
            "order": null,
            "overflow": null,
            "overflow_x": null,
            "overflow_y": null,
            "padding": null,
            "right": null,
            "top": null,
            "visibility": null,
            "width": null
          }
        },
        "c94d8bcdbeb94029adc629da06df0f8e": {
          "model_module": "@jupyter-widgets/base",
          "model_name": "LayoutModel",
          "model_module_version": "1.2.0",
          "state": {
            "_model_module": "@jupyter-widgets/base",
            "_model_module_version": "1.2.0",
            "_model_name": "LayoutModel",
            "_view_count": null,
            "_view_module": "@jupyter-widgets/base",
            "_view_module_version": "1.2.0",
            "_view_name": "LayoutView",
            "align_content": null,
            "align_items": null,
            "align_self": null,
            "border": null,
            "bottom": null,
            "display": null,
            "flex": null,
            "flex_flow": null,
            "grid_area": null,
            "grid_auto_columns": null,
            "grid_auto_flow": null,
            "grid_auto_rows": null,
            "grid_column": null,
            "grid_gap": null,
            "grid_row": null,
            "grid_template_areas": null,
            "grid_template_columns": null,
            "grid_template_rows": null,
            "height": null,
            "justify_content": null,
            "justify_items": null,
            "left": null,
            "margin": null,
            "max_height": null,
            "max_width": null,
            "min_height": null,
            "min_width": null,
            "object_fit": null,
            "object_position": null,
            "order": null,
            "overflow": null,
            "overflow_x": null,
            "overflow_y": null,
            "padding": null,
            "right": null,
            "top": null,
            "visibility": null,
            "width": null
          }
        },
        "f382e8682b7243adbd852ec3d851e497": {
          "model_module": "@jupyter-widgets/controls",
          "model_name": "DescriptionStyleModel",
          "model_module_version": "1.5.0",
          "state": {
            "_model_module": "@jupyter-widgets/controls",
            "_model_module_version": "1.5.0",
            "_model_name": "DescriptionStyleModel",
            "_view_count": null,
            "_view_module": "@jupyter-widgets/base",
            "_view_module_version": "1.2.0",
            "_view_name": "StyleView",
            "description_width": ""
          }
        },
        "ec64af85544045c19e533cd88a9b4eb7": {
          "model_module": "@jupyter-widgets/base",
          "model_name": "LayoutModel",
          "model_module_version": "1.2.0",
          "state": {
            "_model_module": "@jupyter-widgets/base",
            "_model_module_version": "1.2.0",
            "_model_name": "LayoutModel",
            "_view_count": null,
            "_view_module": "@jupyter-widgets/base",
            "_view_module_version": "1.2.0",
            "_view_name": "LayoutView",
            "align_content": null,
            "align_items": null,
            "align_self": null,
            "border": null,
            "bottom": null,
            "display": null,
            "flex": null,
            "flex_flow": null,
            "grid_area": null,
            "grid_auto_columns": null,
            "grid_auto_flow": null,
            "grid_auto_rows": null,
            "grid_column": null,
            "grid_gap": null,
            "grid_row": null,
            "grid_template_areas": null,
            "grid_template_columns": null,
            "grid_template_rows": null,
            "height": "80px",
            "justify_content": null,
            "justify_items": null,
            "left": null,
            "margin": null,
            "max_height": null,
            "max_width": null,
            "min_height": null,
            "min_width": null,
            "object_fit": null,
            "object_position": null,
            "order": null,
            "overflow": null,
            "overflow_x": null,
            "overflow_y": null,
            "padding": null,
            "right": null,
            "top": null,
            "visibility": null,
            "width": "25%"
          }
        },
        "f6fc740d836e4d1fb2603074df4c6949": {
          "model_module": "@jupyter-widgets/controls",
          "model_name": "ButtonStyleModel",
          "model_module_version": "1.5.0",
          "state": {
            "_model_module": "@jupyter-widgets/controls",
            "_model_module_version": "1.5.0",
            "_model_name": "ButtonStyleModel",
            "_view_count": null,
            "_view_module": "@jupyter-widgets/base",
            "_view_module_version": "1.2.0",
            "_view_name": "StyleView",
            "button_color": "lightgreen",
            "font_weight": ""
          }
        },
        "72b91c9d5faa4bbca5eb4327160e8cd1": {
          "model_module": "@jupyter-widgets/controls",
          "model_name": "ImageModel",
          "model_module_version": "1.5.0",
          "state": {
            "_dom_classes": [],
            "_model_module": "@jupyter-widgets/controls",
            "_model_module_version": "1.5.0",
            "_model_name": "ImageModel",
            "_view_count": null,
            "_view_module": "@jupyter-widgets/controls",
            "_view_module_version": "1.5.0",
            "_view_name": "ImageView",
            "format": "png",
            "height": "480px",
            "layout": "IPY_MODEL_265a6a38fbe14d49a22df152c01727b3",
            "width": "640px"
          }
        },
        "5240ba1b63224c16992d6e8c996451cf": {
          "model_module": "@jupyter-widgets/base",
          "model_name": "LayoutModel",
          "model_module_version": "1.2.0",
          "state": {
            "_model_module": "@jupyter-widgets/base",
            "_model_module_version": "1.2.0",
            "_model_name": "LayoutModel",
            "_view_count": null,
            "_view_module": "@jupyter-widgets/base",
            "_view_module_version": "1.2.0",
            "_view_name": "LayoutView",
            "align_content": null,
            "align_items": null,
            "align_self": null,
            "border": null,
            "bottom": null,
            "display": null,
            "flex": null,
            "flex_flow": null,
            "grid_area": null,
            "grid_auto_columns": null,
            "grid_auto_flow": null,
            "grid_auto_rows": null,
            "grid_column": null,
            "grid_gap": null,
            "grid_row": null,
            "grid_template_areas": null,
            "grid_template_columns": null,
            "grid_template_rows": null,
            "height": null,
            "justify_content": null,
            "justify_items": null,
            "left": null,
            "margin": null,
            "max_height": null,
            "max_width": null,
            "min_height": null,
            "min_width": null,
            "object_fit": null,
            "object_position": null,
            "order": null,
            "overflow": null,
            "overflow_x": null,
            "overflow_y": null,
            "padding": null,
            "right": null,
            "top": null,
            "visibility": null,
            "width": null
          }
        },
        "504498ca06014eec891f0a413e76a8bb": {
          "model_module": "@jupyter-widgets/base",
          "model_name": "LayoutModel",
          "model_module_version": "1.2.0",
          "state": {
            "_model_module": "@jupyter-widgets/base",
            "_model_module_version": "1.2.0",
            "_model_name": "LayoutModel",
            "_view_count": null,
            "_view_module": "@jupyter-widgets/base",
            "_view_module_version": "1.2.0",
            "_view_name": "LayoutView",
            "align_content": null,
            "align_items": null,
            "align_self": null,
            "border": null,
            "bottom": null,
            "display": null,
            "flex": null,
            "flex_flow": null,
            "grid_area": null,
            "grid_auto_columns": null,
            "grid_auto_flow": null,
            "grid_auto_rows": null,
            "grid_column": null,
            "grid_gap": null,
            "grid_row": null,
            "grid_template_areas": null,
            "grid_template_columns": null,
            "grid_template_rows": null,
            "height": null,
            "justify_content": null,
            "justify_items": null,
            "left": null,
            "margin": null,
            "max_height": null,
            "max_width": null,
            "min_height": null,
            "min_width": null,
            "object_fit": null,
            "object_position": null,
            "order": null,
            "overflow": null,
            "overflow_x": null,
            "overflow_y": null,
            "padding": null,
            "right": null,
            "top": null,
            "visibility": null,
            "width": null
          }
        },
        "265a6a38fbe14d49a22df152c01727b3": {
          "model_module": "@jupyter-widgets/base",
          "model_name": "LayoutModel",
          "model_module_version": "1.2.0",
          "state": {
            "_model_module": "@jupyter-widgets/base",
            "_model_module_version": "1.2.0",
            "_model_name": "LayoutModel",
            "_view_count": null,
            "_view_module": "@jupyter-widgets/base",
            "_view_module_version": "1.2.0",
            "_view_name": "LayoutView",
            "align_content": null,
            "align_items": null,
            "align_self": null,
            "border": null,
            "bottom": null,
            "display": null,
            "flex": null,
            "flex_flow": null,
            "grid_area": null,
            "grid_auto_columns": null,
            "grid_auto_flow": null,
            "grid_auto_rows": null,
            "grid_column": null,
            "grid_gap": null,
            "grid_row": null,
            "grid_template_areas": null,
            "grid_template_columns": null,
            "grid_template_rows": null,
            "height": null,
            "justify_content": null,
            "justify_items": null,
            "left": null,
            "margin": null,
            "max_height": null,
            "max_width": null,
            "min_height": null,
            "min_width": null,
            "object_fit": null,
            "object_position": null,
            "order": null,
            "overflow": null,
            "overflow_x": null,
            "overflow_y": null,
            "padding": null,
            "right": null,
            "top": null,
            "visibility": null,
            "width": null
          }
        },
        "715441b3eeb34f06af58717820f11547": {
          "model_module": "@jupyter-widgets/base",
          "model_name": "LayoutModel",
          "model_module_version": "1.2.0",
          "state": {
            "_model_module": "@jupyter-widgets/base",
            "_model_module_version": "1.2.0",
            "_model_name": "LayoutModel",
            "_view_count": null,
            "_view_module": "@jupyter-widgets/base",
            "_view_module_version": "1.2.0",
            "_view_name": "LayoutView",
            "align_content": null,
            "align_items": null,
            "align_self": null,
            "border": null,
            "bottom": null,
            "display": null,
            "flex": null,
            "flex_flow": null,
            "grid_area": null,
            "grid_auto_columns": null,
            "grid_auto_flow": null,
            "grid_auto_rows": null,
            "grid_column": null,
            "grid_gap": null,
            "grid_row": null,
            "grid_template_areas": null,
            "grid_template_columns": null,
            "grid_template_rows": null,
            "height": null,
            "justify_content": null,
            "justify_items": null,
            "left": null,
            "margin": null,
            "max_height": null,
            "max_width": null,
            "min_height": null,
            "min_width": null,
            "object_fit": null,
            "object_position": null,
            "order": null,
            "overflow": null,
            "overflow_x": null,
            "overflow_y": null,
            "padding": null,
            "right": null,
            "top": null,
            "visibility": null,
            "width": null
          }
        },
        "00a4205d6990406fa2c22a4a852c4e41": {
          "model_module": "@jupyter-widgets/controls",
          "model_name": "ButtonStyleModel",
          "model_module_version": "1.5.0",
          "state": {
            "_model_module": "@jupyter-widgets/controls",
            "_model_module_version": "1.5.0",
            "_model_name": "ButtonStyleModel",
            "_view_count": null,
            "_view_module": "@jupyter-widgets/base",
            "_view_module_version": "1.2.0",
            "_view_name": "StyleView",
            "button_color": null,
            "font_weight": ""
          }
        },
        "de13ee4ee45d416a8f3187e79cfe7668": {
          "model_module": "@jupyter-widgets/base",
          "model_name": "LayoutModel",
          "model_module_version": "1.2.0",
          "state": {
            "_model_module": "@jupyter-widgets/base",
            "_model_module_version": "1.2.0",
            "_model_name": "LayoutModel",
            "_view_count": null,
            "_view_module": "@jupyter-widgets/base",
            "_view_module_version": "1.2.0",
            "_view_name": "LayoutView",
            "align_content": null,
            "align_items": null,
            "align_self": null,
            "border": null,
            "bottom": null,
            "display": null,
            "flex": null,
            "flex_flow": null,
            "grid_area": null,
            "grid_auto_columns": null,
            "grid_auto_flow": null,
            "grid_auto_rows": null,
            "grid_column": null,
            "grid_gap": null,
            "grid_row": null,
            "grid_template_areas": null,
            "grid_template_columns": null,
            "grid_template_rows": null,
            "height": null,
            "justify_content": null,
            "justify_items": null,
            "left": null,
            "margin": null,
            "max_height": null,
            "max_width": null,
            "min_height": null,
            "min_width": null,
            "object_fit": null,
            "object_position": null,
            "order": null,
            "overflow": null,
            "overflow_x": null,
            "overflow_y": null,
            "padding": null,
            "right": null,
            "top": null,
            "visibility": null,
            "width": null
          }
        },
        "89cd9f6b277e48b492a38af46bbb723c": {
          "model_module": "@jupyter-widgets/controls",
          "model_name": "DescriptionStyleModel",
          "model_module_version": "1.5.0",
          "state": {
            "_model_module": "@jupyter-widgets/controls",
            "_model_module_version": "1.5.0",
            "_model_name": "DescriptionStyleModel",
            "_view_count": null,
            "_view_module": "@jupyter-widgets/base",
            "_view_module_version": "1.2.0",
            "_view_name": "StyleView",
            "description_width": ""
          }
        }
      }
    }
  },
  "cells": [
    {
      "cell_type": "code",
      "execution_count": 107,
      "metadata": {
        "colab": {
          "base_uri": "https://localhost:8080/",
          "height": 1000,
          "referenced_widgets": [
            "311e5761ca674083a9cbafb8ee7bbbc2",
            "36b1e352887d49a098dc3413f82f07d6",
            "097fa4b38fd44241bcbefac5f888e058",
            "cee236261ad84bbdabb4e6d84b626c21",
            "267fbe4b66be4f9988f0598569070ef2",
            "6036be440cda4473aa7beb9a39d041e7",
            "f6202abe68154865a03851e78d195a4c",
            "44e6f0468ba44b6b85ddc6038e30b502",
            "ce7e9b12640f4bd8a3b84cc6752c3f22",
            "a17b16841f39426d85bed6c771404c28",
            "83afb715a7754c5d99a482ff2b7e6663",
            "c94d8bcdbeb94029adc629da06df0f8e",
            "f382e8682b7243adbd852ec3d851e497",
            "ec64af85544045c19e533cd88a9b4eb7",
            "f6fc740d836e4d1fb2603074df4c6949",
            "72b91c9d5faa4bbca5eb4327160e8cd1",
            "5240ba1b63224c16992d6e8c996451cf",
            "504498ca06014eec891f0a413e76a8bb",
            "265a6a38fbe14d49a22df152c01727b3",
            "715441b3eeb34f06af58717820f11547",
            "00a4205d6990406fa2c22a4a852c4e41",
            "de13ee4ee45d416a8f3187e79cfe7668",
            "89cd9f6b277e48b492a38af46bbb723c"
          ]
        },
        "id": "GCC-uK_Tjk-m",
        "outputId": "167e117c-98a8-406a-bc25-718ed88d4d0b"
      },
      "outputs": [
        {
          "output_type": "display_data",
          "data": {
            "text/plain": [
              "<IPython.core.display.HTML object>"
            ],
            "text/html": [
              "<style>.red_label { color:red;font-size:30px;border-style: inset;font-family:fantasy}</style>"
            ]
          },
          "metadata": {}
        },
        {
          "output_type": "display_data",
          "data": {
            "text/plain": [
              "<IPython.core.display.HTML object>"
            ],
            "text/html": [
              "<style>.green_label { color:green;font-size:20px;border-style: dotted;font-family:fantasy}</style>"
            ]
          },
          "metadata": {}
        },
        {
          "output_type": "display_data",
          "data": {
            "text/plain": [
              "Box(children=(Label(value='Se pot procesa doar bancnote de 1,5,10,100,200,500 lei', _dom_classes=('red_label',…"
            ],
            "application/vnd.jupyter.widget-view+json": {
              "version_major": 2,
              "version_minor": 0,
              "model_id": "311e5761ca674083a9cbafb8ee7bbbc2"
            }
          },
          "metadata": {
            "application/vnd.jupyter.widget-view+json": {
              "colab": {
                "custom_widget_manager": {
                  "url": "https://ssl.gstatic.com/colaboratory-static/widgets/colab-cdn-widget-manager/d2e234f7cc04bf79/manager.min.js"
                }
              }
            }
          }
        },
        {
          "output_type": "error",
          "ename": "UnidentifiedImageError",
          "evalue": "ignored",
          "traceback": [
            "\u001b[0;31m---------------------------------------------------------------------------\u001b[0m",
            "\u001b[0;31mUnidentifiedImageError\u001b[0m                    Traceback (most recent call last)",
            "\u001b[0;32m<ipython-input-106-09bfbcf17f91>\u001b[0m in \u001b[0;36mon_data_change\u001b[0;34m(change)\u001b[0m\n\u001b[1;32m     59\u001b[0m \u001b[0;34m\u001b[0m\u001b[0m\n\u001b[1;32m     60\u001b[0m \u001b[0;32mdef\u001b[0m \u001b[0mon_data_change\u001b[0m\u001b[0;34m(\u001b[0m\u001b[0mchange\u001b[0m\u001b[0;34m)\u001b[0m\u001b[0;34m:\u001b[0m\u001b[0;34m\u001b[0m\u001b[0;34m\u001b[0m\u001b[0m\n\u001b[0;32m---> 61\u001b[0;31m     \u001b[0mim\u001b[0m \u001b[0;34m=\u001b[0m \u001b[0mPIL\u001b[0m\u001b[0;34m.\u001b[0m\u001b[0mImage\u001b[0m\u001b[0;34m.\u001b[0m\u001b[0mopen\u001b[0m\u001b[0;34m(\u001b[0m\u001b[0mio\u001b[0m\u001b[0;34m.\u001b[0m\u001b[0mBytesIO\u001b[0m\u001b[0;34m(\u001b[0m\u001b[0mimage_recorder\u001b[0m\u001b[0;34m.\u001b[0m\u001b[0mimage\u001b[0m\u001b[0;34m.\u001b[0m\u001b[0mvalue\u001b[0m\u001b[0;34m)\u001b[0m\u001b[0;34m)\u001b[0m\u001b[0;34m.\u001b[0m\u001b[0mconvert\u001b[0m\u001b[0;34m(\u001b[0m\u001b[0;34m'RGB'\u001b[0m\u001b[0;34m)\u001b[0m\u001b[0;34m\u001b[0m\u001b[0;34m\u001b[0m\u001b[0m\n\u001b[0m\u001b[1;32m     62\u001b[0m     \u001b[0mim_array\u001b[0m \u001b[0;34m=\u001b[0m \u001b[0mnp\u001b[0m\u001b[0;34m.\u001b[0m\u001b[0marray\u001b[0m\u001b[0;34m(\u001b[0m\u001b[0mim\u001b[0m\u001b[0;34m)\u001b[0m\u001b[0;34m\u001b[0m\u001b[0;34m\u001b[0m\u001b[0m\n\u001b[1;32m     63\u001b[0m     \u001b[0mim_array\u001b[0m\u001b[0;34m\u001b[0m\u001b[0;34m\u001b[0m\u001b[0m\n",
            "\u001b[0;32m/usr/local/lib/python3.7/dist-packages/PIL/Image.py\u001b[0m in \u001b[0;36mopen\u001b[0;34m(fp, mode)\u001b[0m\n\u001b[1;32m   2894\u001b[0m         \u001b[0mwarnings\u001b[0m\u001b[0;34m.\u001b[0m\u001b[0mwarn\u001b[0m\u001b[0;34m(\u001b[0m\u001b[0mmessage\u001b[0m\u001b[0;34m)\u001b[0m\u001b[0;34m\u001b[0m\u001b[0;34m\u001b[0m\u001b[0m\n\u001b[1;32m   2895\u001b[0m     raise UnidentifiedImageError(\n\u001b[0;32m-> 2896\u001b[0;31m         \u001b[0;34m\"cannot identify image file %r\"\u001b[0m \u001b[0;34m%\u001b[0m \u001b[0;34m(\u001b[0m\u001b[0mfilename\u001b[0m \u001b[0;32mif\u001b[0m \u001b[0mfilename\u001b[0m \u001b[0;32melse\u001b[0m \u001b[0mfp\u001b[0m\u001b[0;34m)\u001b[0m\u001b[0;34m\u001b[0m\u001b[0;34m\u001b[0m\u001b[0m\n\u001b[0m\u001b[1;32m   2897\u001b[0m     )\n\u001b[1;32m   2898\u001b[0m \u001b[0;34m\u001b[0m\u001b[0m\n",
            "\u001b[0;31mUnidentifiedImageError\u001b[0m: cannot identify image file <_io.BytesIO object at 0x7fa0f236b5f0>"
          ]
        },
        {
          "output_type": "display_data",
          "data": {
            "text/plain": [
              "<IPython.core.display.HTML object>"
            ],
            "text/html": [
              "\n",
              "<style>\n",
              "    /* Turns off some styling */\n",
              "    progress {\n",
              "        /* gets rid of default border in Firefox and Opera. */\n",
              "        border: none;\n",
              "        /* Needs to be in here for Safari polyfill so background images work as expected. */\n",
              "        background-size: auto;\n",
              "    }\n",
              "    .progress-bar-interrupted, .progress-bar-interrupted::-webkit-progress-bar {\n",
              "        background: #F44336;\n",
              "    }\n",
              "</style>\n"
            ]
          },
          "metadata": {}
        },
        {
          "output_type": "display_data",
          "data": {
            "text/plain": [
              "<IPython.core.display.HTML object>"
            ],
            "text/html": [
              ""
            ]
          },
          "metadata": {}
        }
      ],
      "source": [
        "#from traitlets import config\n",
        "from fastai.vision.all import *\n",
        "from fastai.vision.widgets import *\n",
        "from ipywidgets import *\n",
        "\n",
        "from PIL import Image\n",
        "import numpy\n",
        "from numpy import asarray\n",
        "import numpy as np\n",
        "\n",
        "#!pip install ipywebrtc\n",
        "from ipywebrtc import CameraStream, ImageRecorder\n",
        "import ipywidgets as widgets\n",
        "\n",
        "import PIL.Image\n",
        "import PIL.ImageFilter\n",
        "import io\n",
        "\n",
        "from google.colab import output\n",
        "from IPython.display import display, HTML\n",
        "camera=CameraStream.facing_user(audio=False)\n",
        "\n",
        "\n",
        "output.enable_custom_widget_manager()\n",
        "\n",
        "#This is the markdown text I used\n",
        "\n",
        "#The US 50 Dollar and 100 Dollar Indentifier!\n",
        "\n",
        "# You have a 50 US dollar or a 100 US dollar bill on your hand, but want to make sure it is not a counterfit, all you need to do \n",
        "# is take a picture of the bill and **upload** it to get an evaluation.\n",
        "# (Note: Only 50 US dollar or 100 US dollar bill will produce meaningful results, picture of anything else will not \n",
        "# yield meaningful results.)\n",
        "\n",
        "path = Path()\n",
        "learn_inf = load_learner(path/'export.pkl', cpu=True)\n",
        "btn_upload = widgets.FileUpload() #buton pentru a incarca din memorie fotografii\n",
        "out_pl = widgets.Output()\n",
        "lbl_pred = widgets.Label()\n",
        "\n",
        "\n",
        "btn_from_camera = widgets.Button(description=' TAP TO START PROCESSING',layout=Layout(width='25%', height='80px'))\n",
        "btn_from_camera.on_click(on_data_change)\n",
        "btn_from_camera.style.button_color = 'lightgreen'\n",
        "#btn_from_camera.style.width =\"auto\"\n",
        "\n",
        "image_recorder = ImageRecorder(stream=camera)\n",
        "image_recorder\n",
        "\n",
        "#import torchvision.transforms as T\n",
        "#imh=PILImage.create(np.array(im.convert('RGB')))\n",
        "#img_fastai = Image(im)\n",
        "\n",
        "def take_image():\n",
        "    im = PIL.Image.open(io.BytesIO(image_recorder.image.value)).convert('RGB')\n",
        "    im_array = np.array(im)\n",
        "    im_array\n",
        "#test_image = PIL.Image.open(im).convert('RGB')\n",
        "\n",
        "def on_data_change(change):\n",
        "    im = PIL.Image.open(io.BytesIO(image_recorder.image.value)).convert('RGB')\n",
        "    im_array = np.array(im)\n",
        "    im_array\n",
        "    lbl_pred.value = ''\n",
        "    #img = PILImage.create(btn_upload.data[-1])\n",
        "    #img = Image.open(io.BytesIO(image_recorder.image.value))\n",
        "    out_pl.clear_output()\n",
        "    with out_pl: display(im.to_thumb(128,128))\n",
        "    pred,pred_idx,probs = learn_inf.predict(im_array)\n",
        "    #lbl_pred.value = f'Prediction: {pred}; Probability: {probs[pred_idx]:.04f}' #label vechi\n",
        "    up2_label.value = f'Prediction: {pred}; Probability: {probs[pred_idx]:.04f}'\n",
        "    io.BytesIO.flush\n",
        "\n",
        "\n",
        "items_layout = Layout( width='auto')     # override the default width of the button to 'auto' to let the button grow\n",
        "box_layout = Layout(display='flex',\n",
        "                    flex_flow='column',\n",
        "                    align_items='center',\n",
        "                    border='3px solid black',\n",
        "                    width='70%'\n",
        "                     )\n",
        "\n",
        "display(HTML(\"<style>.red_label { color:red;font-size:30px;border-style: inset;font-family:fantasy}</style>\")) #proprietati label(eticheta) html\n",
        "display(HTML(\"<style>.green_label { color:green;font-size:20px;border-style: dotted;font-family:fantasy}</style>\")) #proprietati label(eticheta) html\n",
        "up1_label = Label(value=\"Se pot procesa doar bancnote de 1,5,10,100,200,500 lei\")\n",
        "up1_label.add_class(\"red_label\")\n",
        "up2_label.value='.'\n",
        "up2_label.add_class(\"green_label\")\n",
        "\n",
        "items = [#widgets.Label('Se pot procesa doar bancnote de 1,5,10,100,200,500 lei') #label simplu,\n",
        "         up1_label, \n",
        "         out_pl, \n",
        "         #lbl_pred,\n",
        "         up2_label,\n",
        "         image_recorder,\n",
        "         btn_from_camera,\n",
        "         \n",
        "         camera,\n",
        "         \n",
        "         ]\n",
        "box = Box(children=items, layout=box_layout)\n",
        "\n",
        "display(box)\n",
        "\n",
        "\n",
        "#btn_upload.observe(on_data_change, names=['data']) #se afiseaza rezultatul procesarii imediat dupa incarcarea unei fotografii\n",
        "#display(VBox([widgets.Label('Se pot procesa doar bancnote de 1,5,10,100,200,500 lei'), btn_upload,btn_from_camera, out_pl, lbl_pred,image_recorder,camera]))"
      ]
    },
    {
      "cell_type": "code",
      "source": [
        "items_layout = Layout( width='auto')     # override the default width of the button to 'auto' to let the button grow\n",
        "\n",
        "box_layout = Layout(display='flex',\n",
        "                    flex_flow='column',\n",
        "                    align_items='stretch',\n",
        "                    border='solid',\n",
        "                    width='50%')\n",
        "\n",
        "words = ['correct', 'horse', 'battery', 'staple']\n",
        "items = [Button(description=word, layout=items_layout, button_style='danger') for word in words]\n",
        "box = Box(children=items, layout=box_layout)\n",
        "box"
      ],
      "metadata": {
        "id": "biZVCXZMFqzk"
      },
      "execution_count": null,
      "outputs": []
    },
    {
      "cell_type": "code",
      "source": [
        ""
      ],
      "metadata": {
        "colab": {
          "base_uri": "https://localhost:8080/"
        },
        "id": "YRRIQ2ntlm5-",
        "outputId": "4e68fa46-e89e-4d6e-da29-61f899056f54"
      },
      "execution_count": 4,
      "outputs": [
        {
          "output_type": "stream",
          "name": "stdout",
          "text": [
            "Looking in indexes: https://pypi.org/simple, https://us-python.pkg.dev/colab-wheels/public/simple/\n",
            "Collecting ipywebrtc\n",
            "  Using cached ipywebrtc-0.6.0-py2.py3-none-any.whl (260 kB)\n",
            "Installing collected packages: ipywebrtc\n",
            "Successfully installed ipywebrtc-0.6.0\n"
          ]
        }
      ]
    },
    {
      "cell_type": "code",
      "source": [
        "camera=CameraStream.facing_user(audio=False)"
      ],
      "metadata": {
        "id": "5zhkjhEWlz3I"
      },
      "execution_count": 5,
      "outputs": []
    },
    {
      "cell_type": "code",
      "source": [
        "image_recorder = ImageRecorder(stream=camera)\n",
        "image_recorder"
      ],
      "metadata": {
        "id": "iEdApPtzl12K"
      },
      "execution_count": null,
      "outputs": []
    },
    {
      "cell_type": "code",
      "source": [
        "from google.colab import output\n",
        "output.enable_custom_widget_manager()"
      ],
      "metadata": {
        "id": "vKVECyXjl4Gi"
      },
      "execution_count": 10,
      "outputs": []
    },
    {
      "cell_type": "code",
      "source": [
        "\n",
        "im = PIL.Image.open(io.BytesIO(image_recorder.image.value)).convert('RGB')\n",
        "#im.filter(PIL.ImageFilter.BLUR)"
      ],
      "metadata": {
        "id": "bcpQRmDCl8ji"
      },
      "execution_count": 11,
      "outputs": []
    },
    {
      "cell_type": "code",
      "source": [
        "from google.colab import output\n",
        "output.enable_custom_widget_manager()"
      ],
      "metadata": {
        "id": "JqfiQDPYM5EQ"
      },
      "execution_count": null,
      "outputs": []
    }
  ]
}