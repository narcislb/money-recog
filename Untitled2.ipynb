{
  "nbformat": 4,
  "nbformat_minor": 0,
  "metadata": {
    "colab": {
      "name": "Untitled2.ipynb",
      "provenance": []
    },
    "kernelspec": {
      "name": "python3",
      "display_name": "Python 3"
    },
    "language_info": {
      "name": "python"
    },
    "widgets": {
      "application/vnd.jupyter.widget-state+json": {
        "40864aa956e1450e81aee90bddd74163": {
          "model_module": "@jupyter-widgets/controls",
          "model_name": "VBoxModel",
          "model_module_version": "1.5.0",
          "state": {
            "_dom_classes": [],
            "_model_module": "@jupyter-widgets/controls",
            "_model_module_version": "1.5.0",
            "_model_name": "VBoxModel",
            "_view_count": null,
            "_view_module": "@jupyter-widgets/controls",
            "_view_module_version": "1.5.0",
            "_view_name": "VBoxView",
            "box_style": "",
            "children": [
              "IPY_MODEL_8d63cecb66514b2798f730c53bc73af0",
              "IPY_MODEL_81a6bab031e04bda8d7664faabb11012",
              "IPY_MODEL_d8ded7895c60496f8f847d74ce8dba80",
              "IPY_MODEL_4a9959c58a81467188c5636364214a26"
            ],
            "layout": "IPY_MODEL_0ed12aecd59f4a798a763171ffc6837f"
          }
        },
        "8d63cecb66514b2798f730c53bc73af0": {
          "model_module": "@jupyter-widgets/controls",
          "model_name": "LabelModel",
          "model_module_version": "1.5.0",
          "state": {
            "_dom_classes": [],
            "_model_module": "@jupyter-widgets/controls",
            "_model_module_version": "1.5.0",
            "_model_name": "LabelModel",
            "_view_count": null,
            "_view_module": "@jupyter-widgets/controls",
            "_view_module_version": "1.5.0",
            "_view_name": "LabelView",
            "description": "",
            "description_tooltip": null,
            "layout": "IPY_MODEL_5f08306b26074d4f84573b4a2707a944",
            "placeholder": "​",
            "style": "IPY_MODEL_0ae5778aa73a4ca3ac1733704f3610e7",
            "value": "Select 50 or 100 dollar bill!"
          }
        },
        "81a6bab031e04bda8d7664faabb11012": {
          "model_module": "@jupyter-widgets/controls",
          "model_name": "FileUploadModel",
          "model_module_version": "1.5.0",
          "state": {
            "_counter": 1,
            "_dom_classes": [],
            "_model_module": "@jupyter-widgets/controls",
            "_model_module_version": "1.5.0",
            "_model_name": "FileUploadModel",
            "_view_count": null,
            "_view_module": "@jupyter-widgets/controls",
            "_view_module_version": "1.5.0",
            "_view_name": "FileUploadView",
            "accept": "",
            "button_style": "",
            "data": [
              null
            ],
            "description": "Upload",
            "description_tooltip": null,
            "disabled": false,
            "error": "",
            "icon": "upload",
            "layout": "IPY_MODEL_d9225cbe44754288b0324ea8b9ad6041",
            "metadata": [
              {
                "name": "banc10.jpg",
                "type": "image/jpeg",
                "size": 92663,
                "lastModified": 1658163920185
              }
            ],
            "multiple": false,
            "style": "IPY_MODEL_cc61b548a3444dc39a0f2a8572e2f15a"
          }
        },
        "d8ded7895c60496f8f847d74ce8dba80": {
          "model_module": "@jupyter-widgets/output",
          "model_name": "OutputModel",
          "model_module_version": "1.0.0",
          "state": {
            "_dom_classes": [],
            "_model_module": "@jupyter-widgets/output",
            "_model_module_version": "1.0.0",
            "_model_name": "OutputModel",
            "_view_count": null,
            "_view_module": "@jupyter-widgets/output",
            "_view_module_version": "1.0.0",
            "_view_name": "OutputView",
            "layout": "IPY_MODEL_552428c860854b9485efe4fd03583e05",
            "msg_id": "",
            "outputs": [
              {
                "output_type": "display_data",
                "data": {
                  "text/plain": "<PIL.Image.Image image mode=RGB size=128x75 at 0x7F8FA2EA2BD0>",
                  "image/png": "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\n"
                },
                "metadata": {}
              }
            ]
          }
        },
        "4a9959c58a81467188c5636364214a26": {
          "model_module": "@jupyter-widgets/controls",
          "model_name": "LabelModel",
          "model_module_version": "1.5.0",
          "state": {
            "_dom_classes": [],
            "_model_module": "@jupyter-widgets/controls",
            "_model_module_version": "1.5.0",
            "_model_name": "LabelModel",
            "_view_count": null,
            "_view_module": "@jupyter-widgets/controls",
            "_view_module_version": "1.5.0",
            "_view_name": "LabelView",
            "description": "",
            "description_tooltip": null,
            "layout": "IPY_MODEL_529d513230ae43aeb00b374a3eb2c8b6",
            "placeholder": "​",
            "style": "IPY_MODEL_9788fd68b5f24767a3493913963f2570",
            "value": "Prediction: 10 lei; Probability: 0.9823"
          }
        },
        "0ed12aecd59f4a798a763171ffc6837f": {
          "model_module": "@jupyter-widgets/base",
          "model_name": "LayoutModel",
          "model_module_version": "1.2.0",
          "state": {
            "_model_module": "@jupyter-widgets/base",
            "_model_module_version": "1.2.0",
            "_model_name": "LayoutModel",
            "_view_count": null,
            "_view_module": "@jupyter-widgets/base",
            "_view_module_version": "1.2.0",
            "_view_name": "LayoutView",
            "align_content": null,
            "align_items": null,
            "align_self": null,
            "border": null,
            "bottom": null,
            "display": null,
            "flex": null,
            "flex_flow": null,
            "grid_area": null,
            "grid_auto_columns": null,
            "grid_auto_flow": null,
            "grid_auto_rows": null,
            "grid_column": null,
            "grid_gap": null,
            "grid_row": null,
            "grid_template_areas": null,
            "grid_template_columns": null,
            "grid_template_rows": null,
            "height": null,
            "justify_content": null,
            "justify_items": null,
            "left": null,
            "margin": null,
            "max_height": null,
            "max_width": null,
            "min_height": null,
            "min_width": null,
            "object_fit": null,
            "object_position": null,
            "order": null,
            "overflow": null,
            "overflow_x": null,
            "overflow_y": null,
            "padding": null,
            "right": null,
            "top": null,
            "visibility": null,
            "width": null
          }
        },
        "5f08306b26074d4f84573b4a2707a944": {
          "model_module": "@jupyter-widgets/base",
          "model_name": "LayoutModel",
          "model_module_version": "1.2.0",
          "state": {
            "_model_module": "@jupyter-widgets/base",
            "_model_module_version": "1.2.0",
            "_model_name": "LayoutModel",
            "_view_count": null,
            "_view_module": "@jupyter-widgets/base",
            "_view_module_version": "1.2.0",
            "_view_name": "LayoutView",
            "align_content": null,
            "align_items": null,
            "align_self": null,
            "border": null,
            "bottom": null,
            "display": null,
            "flex": null,
            "flex_flow": null,
            "grid_area": null,
            "grid_auto_columns": null,
            "grid_auto_flow": null,
            "grid_auto_rows": null,
            "grid_column": null,
            "grid_gap": null,
            "grid_row": null,
            "grid_template_areas": null,
            "grid_template_columns": null,
            "grid_template_rows": null,
            "height": null,
            "justify_content": null,
            "justify_items": null,
            "left": null,
            "margin": null,
            "max_height": null,
            "max_width": null,
            "min_height": null,
            "min_width": null,
            "object_fit": null,
            "object_position": null,
            "order": null,
            "overflow": null,
            "overflow_x": null,
            "overflow_y": null,
            "padding": null,
            "right": null,
            "top": null,
            "visibility": null,
            "width": null
          }
        },
        "0ae5778aa73a4ca3ac1733704f3610e7": {
          "model_module": "@jupyter-widgets/controls",
          "model_name": "DescriptionStyleModel",
          "model_module_version": "1.5.0",
          "state": {
            "_model_module": "@jupyter-widgets/controls",
            "_model_module_version": "1.5.0",
            "_model_name": "DescriptionStyleModel",
            "_view_count": null,
            "_view_module": "@jupyter-widgets/base",
            "_view_module_version": "1.2.0",
            "_view_name": "StyleView",
            "description_width": ""
          }
        },
        "d9225cbe44754288b0324ea8b9ad6041": {
          "model_module": "@jupyter-widgets/base",
          "model_name": "LayoutModel",
          "model_module_version": "1.2.0",
          "state": {
            "_model_module": "@jupyter-widgets/base",
            "_model_module_version": "1.2.0",
            "_model_name": "LayoutModel",
            "_view_count": null,
            "_view_module": "@jupyter-widgets/base",
            "_view_module_version": "1.2.0",
            "_view_name": "LayoutView",
            "align_content": null,
            "align_items": null,
            "align_self": null,
            "border": null,
            "bottom": null,
            "display": null,
            "flex": null,
            "flex_flow": null,
            "grid_area": null,
            "grid_auto_columns": null,
            "grid_auto_flow": null,
            "grid_auto_rows": null,
            "grid_column": null,
            "grid_gap": null,
            "grid_row": null,
            "grid_template_areas": null,
            "grid_template_columns": null,
            "grid_template_rows": null,
            "height": null,
            "justify_content": null,
            "justify_items": null,
            "left": null,
            "margin": null,
            "max_height": null,
            "max_width": null,
            "min_height": null,
            "min_width": null,
            "object_fit": null,
            "object_position": null,
            "order": null,
            "overflow": null,
            "overflow_x": null,
            "overflow_y": null,
            "padding": null,
            "right": null,
            "top": null,
            "visibility": null,
            "width": null
          }
        },
        "cc61b548a3444dc39a0f2a8572e2f15a": {
          "model_module": "@jupyter-widgets/controls",
          "model_name": "ButtonStyleModel",
          "model_module_version": "1.5.0",
          "state": {
            "_model_module": "@jupyter-widgets/controls",
            "_model_module_version": "1.5.0",
            "_model_name": "ButtonStyleModel",
            "_view_count": null,
            "_view_module": "@jupyter-widgets/base",
            "_view_module_version": "1.2.0",
            "_view_name": "StyleView",
            "button_color": null,
            "font_weight": ""
          }
        },
        "529d513230ae43aeb00b374a3eb2c8b6": {
          "model_module": "@jupyter-widgets/base",
          "model_name": "LayoutModel",
          "model_module_version": "1.2.0",
          "state": {
            "_model_module": "@jupyter-widgets/base",
            "_model_module_version": "1.2.0",
            "_model_name": "LayoutModel",
            "_view_count": null,
            "_view_module": "@jupyter-widgets/base",
            "_view_module_version": "1.2.0",
            "_view_name": "LayoutView",
            "align_content": null,
            "align_items": null,
            "align_self": null,
            "border": null,
            "bottom": null,
            "display": null,
            "flex": null,
            "flex_flow": null,
            "grid_area": null,
            "grid_auto_columns": null,
            "grid_auto_flow": null,
            "grid_auto_rows": null,
            "grid_column": null,
            "grid_gap": null,
            "grid_row": null,
            "grid_template_areas": null,
            "grid_template_columns": null,
            "grid_template_rows": null,
            "height": null,
            "justify_content": null,
            "justify_items": null,
            "left": null,
            "margin": null,
            "max_height": null,
            "max_width": null,
            "min_height": null,
            "min_width": null,
            "object_fit": null,
            "object_position": null,
            "order": null,
            "overflow": null,
            "overflow_x": null,
            "overflow_y": null,
            "padding": null,
            "right": null,
            "top": null,
            "visibility": null,
            "width": null
          }
        },
        "9788fd68b5f24767a3493913963f2570": {
          "model_module": "@jupyter-widgets/controls",
          "model_name": "DescriptionStyleModel",
          "model_module_version": "1.5.0",
          "state": {
            "_model_module": "@jupyter-widgets/controls",
            "_model_module_version": "1.5.0",
            "_model_name": "DescriptionStyleModel",
            "_view_count": null,
            "_view_module": "@jupyter-widgets/base",
            "_view_module_version": "1.2.0",
            "_view_name": "StyleView",
            "description_width": ""
          }
        },
        "552428c860854b9485efe4fd03583e05": {
          "model_module": "@jupyter-widgets/base",
          "model_name": "LayoutModel",
          "model_module_version": "1.2.0",
          "state": {
            "_model_module": "@jupyter-widgets/base",
            "_model_module_version": "1.2.0",
            "_model_name": "LayoutModel",
            "_view_count": null,
            "_view_module": "@jupyter-widgets/base",
            "_view_module_version": "1.2.0",
            "_view_name": "LayoutView",
            "align_content": null,
            "align_items": null,
            "align_self": null,
            "border": null,
            "bottom": null,
            "display": null,
            "flex": null,
            "flex_flow": null,
            "grid_area": null,
            "grid_auto_columns": null,
            "grid_auto_flow": null,
            "grid_auto_rows": null,
            "grid_column": null,
            "grid_gap": null,
            "grid_row": null,
            "grid_template_areas": null,
            "grid_template_columns": null,
            "grid_template_rows": null,
            "height": null,
            "justify_content": null,
            "justify_items": null,
            "left": null,
            "margin": null,
            "max_height": null,
            "max_width": null,
            "min_height": null,
            "min_width": null,
            "object_fit": null,
            "object_position": null,
            "order": null,
            "overflow": null,
            "overflow_x": null,
            "overflow_y": null,
            "padding": null,
            "right": null,
            "top": null,
            "visibility": null,
            "width": null
          }
        }
      }
    }
  },
  "cells": [
    {
      "cell_type": "code",
      "execution_count": 2,
      "metadata": {
        "colab": {
          "base_uri": "https://localhost:8080/",
          "height": 188,
          "referenced_widgets": [
            "40864aa956e1450e81aee90bddd74163",
            "8d63cecb66514b2798f730c53bc73af0",
            "81a6bab031e04bda8d7664faabb11012",
            "d8ded7895c60496f8f847d74ce8dba80",
            "4a9959c58a81467188c5636364214a26",
            "0ed12aecd59f4a798a763171ffc6837f",
            "5f08306b26074d4f84573b4a2707a944",
            "0ae5778aa73a4ca3ac1733704f3610e7",
            "d9225cbe44754288b0324ea8b9ad6041",
            "cc61b548a3444dc39a0f2a8572e2f15a",
            "529d513230ae43aeb00b374a3eb2c8b6",
            "9788fd68b5f24767a3493913963f2570",
            "552428c860854b9485efe4fd03583e05"
          ]
        },
        "id": "E0H0Z-vGEB-O",
        "outputId": "7dd7a5a2-4a21-4a7a-ae91-aaf6d69f9804"
      },
      "outputs": [
        {
          "output_type": "display_data",
          "data": {
            "text/plain": [
              "VBox(children=(Label(value='Select 50 or 100 dollar bill!'), FileUpload(value={}, description='Upload'), Outpu…"
            ],
            "application/vnd.jupyter.widget-view+json": {
              "version_major": 2,
              "version_minor": 0,
              "model_id": "40864aa956e1450e81aee90bddd74163"
            }
          },
          "metadata": {}
        },
        {
          "output_type": "display_data",
          "data": {
            "text/plain": [
              "<IPython.core.display.HTML object>"
            ],
            "text/html": [
              "\n",
              "<style>\n",
              "    /* Turns off some styling */\n",
              "    progress {\n",
              "        /* gets rid of default border in Firefox and Opera. */\n",
              "        border: none;\n",
              "        /* Needs to be in here for Safari polyfill so background images work as expected. */\n",
              "        background-size: auto;\n",
              "    }\n",
              "    .progress-bar-interrupted, .progress-bar-interrupted::-webkit-progress-bar {\n",
              "        background: #F44336;\n",
              "    }\n",
              "</style>\n"
            ]
          },
          "metadata": {}
        },
        {
          "output_type": "display_data",
          "data": {
            "text/plain": [
              "<IPython.core.display.HTML object>"
            ],
            "text/html": [
              ""
            ]
          },
          "metadata": {}
        }
      ],
      "source": [
        "from fastai.vision.all import *\n",
        "from fastai.vision.widgets import *\n",
        "from ipywidgets import *\n",
        "\n",
        "#This is the markdown text I used\n",
        "\n",
        "#The US 50 Dollar and 100 Dollar Indentifier!\n",
        "\n",
        "# You have a 50 US dollar or a 100 US dollar bill on your hand, but want to make sure it is not a counterfit, all you need to do \n",
        "# is take a picture of the bill and **upload** it to get an evaluation.\n",
        "# (Note: Only 50 US dollar or 100 US dollar bill will produce meaningful results, picture of anything else will not \n",
        "# yield meaningful results.)\n",
        "\n",
        "path = Path()\n",
        "learn_inf = load_learner(path/'export.pkl', cpu=True)\n",
        "btn_upload = widgets.FileUpload()\n",
        "out_pl = widgets.Output()\n",
        "lbl_pred = widgets.Label()\n",
        "\n",
        "def on_data_change(change):\n",
        "    lbl_pred.value = ''\n",
        "    img = PILImage.create(btn_upload.data[-1])\n",
        "    out_pl.clear_output()\n",
        "    with out_pl: display(img.to_thumb(128,128))\n",
        "    pred,pred_idx,probs = learn_inf.predict(img)\n",
        "    lbl_pred.value = f'Prediction: {pred}; Probability: {probs[pred_idx]:.04f}'\n",
        "\n",
        "btn_upload.observe(on_data_change, names=['data'])\n",
        "display(VBox([widgets.Label('Select 50 or 100 dollar bill!'), btn_upload, out_pl, lbl_pred]))\n"
      ]
    }
  ]
}